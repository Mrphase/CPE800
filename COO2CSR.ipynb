{
 "cells": [
  {
   "cell_type": "code",
   "execution_count": 2,
   "metadata": {},
   "outputs": [],
   "source": [
    "import numpy as np\n",
    "from scipy.sparse import coo_matrix\n",
    "from scipy.sparse import csr_matrix\n",
    "import matplotlib.pyplot as plt\n",
    "\n",
    "#BFS using FIFO queue\n",
    "from queue import Queue,LifoQueue,PriorityQueue\n",
    "from collections import defaultdict \n",
    "##\n",
    "import networkx as nx\n",
    "import scipy.stats as stats\n",
    "import scipy.sparse as sparse"
   ]
  },
  {
   "cell_type": "code",
   "execution_count": 3,
   "metadata": {},
   "outputs": [
    {
     "name": "stdout",
     "output_type": "stream",
     "text": [
      "(26,)\n"
     ]
    }
   ],
   "source": [
    "\n",
    "# Load the data\n",
    "\n",
    "# See http://docs.scipy.org/doc/numpy/user/basics.io.genfromtxt.html\n",
    "\n",
    "# data = np.loadtxt('E:\\研一下学期资料\\CPE800\\It_can_work\\toy.dat', delimiter=',')\n",
    "\n",
    "data = np.fromfile('E:\\\\研一下学期资料\\\\CPE800\\\\It_can_work\\\\toy.txt',dtype=np.int,sep=' ')\n",
    "\n",
    "\n",
    "# Examine data\n",
    "\n",
    "print(data.shape)\n"
   ]
  },
  {
   "cell_type": "code",
   "execution_count": 4,
   "metadata": {},
   "outputs": [
    {
     "data": {
      "text/plain": [
       "26"
      ]
     },
     "execution_count": 4,
     "metadata": {},
     "output_type": "execute_result"
    }
   ],
   "source": [
    "len(data)"
   ]
  },
  {
   "cell_type": "code",
   "execution_count": 5,
   "metadata": {},
   "outputs": [
    {
     "name": "stdout",
     "output_type": "stream",
     "text": [
      "1\n",
      "4\n",
      "2\n",
      "2\n",
      "7\n",
      "7\n",
      "5\n",
      "3\n",
      "5\n",
      "6\n",
      "8\n",
      "8\n",
      "9\n"
     ]
    }
   ],
   "source": [
    "sourse = []\n",
    "target = []\n",
    "for i in range(13):\n",
    "#     print(i)\n",
    "    sourse.append(data[i*2])\n",
    "    \n",
    "    target.append(data[i*2+1])\n",
    "    print(target[i])"
   ]
  },
  {
   "cell_type": "code",
   "execution_count": 6,
   "metadata": {},
   "outputs": [],
   "source": [
    "sourse = np.array(sourse)\n",
    "target = np.array(target)\n",
    "v=[]\n",
    "for i in range(13):\n",
    "    v.append(8)\n",
    "value = np.array(v)  # useless but needed"
   ]
  },
  {
   "cell_type": "code",
   "execution_count": 7,
   "metadata": {},
   "outputs": [
    {
     "data": {
      "text/plain": [
       "array([[0, 8, 0, 0, 8, 0, 0, 0, 0, 0, 0, 0, 0],\n",
       "       [0, 0, 8, 0, 0, 0, 0, 0, 0, 0, 0, 0, 0],\n",
       "       [0, 0, 0, 8, 0, 8, 0, 8, 0, 0, 0, 0, 0],\n",
       "       [0, 0, 0, 0, 0, 8, 8, 0, 0, 0, 0, 0, 0],\n",
       "       [0, 0, 8, 0, 0, 0, 0, 8, 0, 0, 0, 0, 0],\n",
       "       [0, 0, 0, 0, 0, 0, 0, 0, 8, 0, 0, 0, 0],\n",
       "       [0, 0, 0, 0, 0, 0, 0, 0, 0, 0, 0, 0, 0],\n",
       "       [0, 0, 0, 0, 0, 0, 0, 0, 8, 0, 0, 0, 0],\n",
       "       [0, 0, 0, 0, 0, 0, 0, 0, 0, 8, 0, 0, 0],\n",
       "       [0, 0, 0, 0, 0, 0, 0, 0, 0, 0, 0, 0, 0],\n",
       "       [0, 0, 0, 0, 0, 0, 0, 0, 0, 0, 0, 0, 0],\n",
       "       [0, 0, 0, 0, 0, 0, 0, 0, 0, 0, 0, 0, 0],\n",
       "       [0, 0, 0, 0, 0, 0, 0, 0, 0, 0, 0, 0, 0]])"
      ]
     },
     "execution_count": 7,
     "metadata": {},
     "output_type": "execute_result"
    }
   ],
   "source": [
    "origional = coo_matrix((value, (sourse, target)), shape=(13, 13)).toarray()\n",
    "# origional[0][1]\n",
    "origional"
   ]
  },
  {
   "cell_type": "code",
   "execution_count": 8,
   "metadata": {},
   "outputs": [],
   "source": [
    "CSR = coo_matrix((value, (sourse, target)), shape=(13, 13)).tocsr()\n"
   ]
  },
  {
   "cell_type": "code",
   "execution_count": 9,
   "metadata": {},
   "outputs": [
    {
     "data": {
      "text/plain": [
       "array([8, 8, 8, 8, 8, 8, 8, 8, 8, 8, 8, 8, 8], dtype=int32)"
      ]
     },
     "execution_count": 9,
     "metadata": {},
     "output_type": "execute_result"
    }
   ],
   "source": [
    "CSR.data#value"
   ]
  },
  {
   "cell_type": "code",
   "execution_count": 10,
   "metadata": {},
   "outputs": [
    {
     "data": {
      "text/plain": [
       "array([1, 4, 2, 3, 5, 7, 5, 6, 2, 7, 8, 8, 9], dtype=int32)"
      ]
     },
     "execution_count": 10,
     "metadata": {},
     "output_type": "execute_result"
    }
   ],
   "source": [
    "col = CSR.indices\n",
    "CSR.indices"
   ]
  },
  {
   "cell_type": "code",
   "execution_count": 11,
   "metadata": {},
   "outputs": [
    {
     "data": {
      "text/plain": [
       "array([ 0,  2,  3,  6,  8, 10, 11, 11, 12, 13, 13, 13, 13, 13],\n",
       "      dtype=int32)"
      ]
     },
     "execution_count": 11,
     "metadata": {},
     "output_type": "execute_result"
    }
   ],
   "source": [
    "index = CSR.indptr\n",
    "CSR.indptr"
   ]
  },
  {
   "cell_type": "code",
   "execution_count": 12,
   "metadata": {},
   "outputs": [],
   "source": [
    "# python-TypeError: write() argument must be str, not numpy.float64\n",
    "# 错误前\n",
    "# f.write(data_y[i])\n",
    "# 错误后\n",
    "# f.write(str(data_y[i]))\n",
    "\n",
    "fl=open('E:\\\\研一下学期资料\\\\CPE800\\\\It_can_work\\\\COO_text_to_CSR_text.txt', 'w')\n",
    "for i in CSR.data:\n",
    "    fl.write(str(i))\n",
    "    fl.write(\" \")\n",
    "    \n",
    "fl.write(\"\\n\")\n",
    "\n",
    "for i in col:\n",
    "    fl.write(str(i))\n",
    "    fl.write(\" \")\n",
    "    \n",
    "fl.write(\"\\n\")\n",
    "for i in index:\n",
    "    fl.write(str(i))\n",
    "    fl.write(\" \")\n",
    "    \n",
    "fl.close()"
   ]
  },
  {
   "cell_type": "code",
   "execution_count": 13,
   "metadata": {},
   "outputs": [],
   "source": [
    "def BFS(col, index):\n",
    "    visited = [0]; output = []; current_id = 0\n",
    "    while visited:\n",
    "        current = visited.pop(0)\n",
    "        num_of_element = index[current_id+1]-index[current_id]\n",
    "        for i in range(num_of_element):\n",
    "            visited.append(col[i+current_id])\n",
    "            temp = [current,col[i+current_id]]\n",
    "            print(temp)\n",
    "            if temp not in output:\n",
    "                output.append(temp)\n",
    "                ## has BUG need to be fix\n",
    "\n",
    "        current_id = col[c]\n",
    "\n",
    "\n",
    "    return output\n"
   ]
  },
  {
   "cell_type": "code",
   "execution_count": 14,
   "metadata": {
    "scrolled": true
   },
   "outputs": [
    {
     "name": "stdout",
     "output_type": "stream",
     "text": [
      "  (0, 1)\t8\n",
      "  (0, 4)\t8\n",
      "  (1, 2)\t8\n",
      "  (2, 3)\t8\n",
      "  (2, 5)\t8\n",
      "  (2, 7)\t8\n",
      "  (3, 5)\t8\n",
      "  (3, 6)\t8\n",
      "  (4, 2)\t8\n",
      "  (4, 7)\t8\n",
      "  (5, 8)\t8\n",
      "  (7, 8)\t8\n",
      "  (8, 9)\t8 \n",
      "\n",
      "   (0, 1)\t8\n",
      "  (0, 4)\t8\n",
      "  (1, 2)\t8\n",
      "  (2, 3)\t8\n",
      "  (2, 5)\t8\n",
      "  (2, 7)\t8\n",
      "  (3, 5)\t8\n",
      "  (3, 6)\t8\n",
      "  (4, 2)\t8\n",
      "  (4, 7)\t8\n",
      "  (5, 8)\t8\n",
      "  (7, 8)\t8\n",
      "  (8, 9)\t8 \n",
      "   (0, 1)\t8\n",
      "  (0, 4)\t8\n",
      "  (0, 2)\t8\n",
      "  (0, 7)\t8\n",
      "  (0, 3)\t8\n",
      "  (0, 5)\t8\n",
      "  (0, 8)\t8\n",
      "  (0, 6)\t8\n",
      "  (0, 9)\t8\n",
      "  (1, 2)\t8\n",
      "  (1, 3)\t8\n",
      "  (1, 5)\t8\n",
      "  (1, 7)\t8\n",
      "  (1, 6)\t8\n",
      "  (1, 8)\t8\n",
      "  (1, 9)\t8\n",
      "  (2, 3)\t8\n",
      "  (2, 5)\t8\n",
      "  (2, 7)\t8\n",
      "  (2, 6)\t8\n",
      "  (2, 8)\t8\n",
      "  (2, 9)\t8\n",
      "  (3, 5)\t8\n",
      "  (3, 6)\t8\n",
      "  (3, 8)\t8\n",
      "  (3, 9)\t8\n",
      "  (4, 2)\t8\n",
      "  (4, 7)\t8\n",
      "  (4, 3)\t8\n",
      "  (4, 5)\t8\n",
      "  (4, 8)\t8\n",
      "  (4, 6)\t8\n",
      "  (4, 9)\t8\n",
      "  (5, 8)\t8\n",
      "  (5, 9)\t8\n",
      "  (7, 8)\t8\n",
      "  (7, 9)\t8\n",
      "  (8, 9)\t8\n"
     ]
    }
   ],
   "source": [
    "A = CSR\n",
    "G = nx.DiGraph(A)       # directed because A need not be symmetric\n",
    "paths = nx.all_pairs_shortest_path_length(G)\n",
    "indices = []\n",
    "indptr = [0]\n",
    "for row in paths:\n",
    "  reachable = [v for v in row[1] if row[1][v] > 0]\n",
    "  indices.extend(reachable)\n",
    "  indptr.append(len(indices))\n",
    "data = np.ones((len(indices),), dtype=np.uint8)\n",
    "\n",
    "for i in range(len(data)):\n",
    "    data[i] = 8\n",
    "\n",
    "A_trans =sparse.csr_matrix((data, indices, indptr), shape=A.shape)\n",
    "print(A, \"\\n\\n\",A,\"\\n\", A_trans)"
   ]
  },
  {
   "cell_type": "code",
   "execution_count": 16,
   "metadata": {},
   "outputs": [
    {
     "name": "stdout",
     "output_type": "stream",
     "text": [
      "[8 8 8 8 8 8 8 8 8 8 8 8 8 8 8 8 8 8 8 8 8 8 8 8 8 8 8 8 8 8 8 8 8 8 8 8 8\n",
      " 8]\n"
     ]
    }
   ],
   "source": [
    "print(data)"
   ]
  },
  {
   "cell_type": "code",
   "execution_count": 17,
   "metadata": {
    "scrolled": false
   },
   "outputs": [
    {
     "name": "stdout",
     "output_type": "stream",
     "text": [
      "Original data using toy.dat\n",
      "  (0, 1)\t8\n",
      "  (0, 4)\t8\n",
      "  (1, 2)\t8\n",
      "  (2, 3)\t8\n",
      "  (2, 5)\t8\n",
      "  (2, 7)\t8\n",
      "  (3, 5)\t8\n",
      "  (3, 6)\t8\n",
      "  (4, 2)\t8\n",
      "  (4, 7)\t8\n",
      "  (5, 8)\t8\n",
      "  (7, 8)\t8\n",
      "  (8, 9)\t8\n",
      "DENS—format\n",
      "[[0 8 0 0 8 0 0 0 0 0 0 0 0]\n",
      " [0 0 8 0 0 0 0 0 0 0 0 0 0]\n",
      " [0 0 0 8 0 8 0 8 0 0 0 0 0]\n",
      " [0 0 0 0 0 8 8 0 0 0 0 0 0]\n",
      " [0 0 8 0 0 0 0 8 0 0 0 0 0]\n",
      " [0 0 0 0 0 0 0 0 8 0 0 0 0]\n",
      " [0 0 0 0 0 0 0 0 0 0 0 0 0]\n",
      " [0 0 0 0 0 0 0 0 8 0 0 0 0]\n",
      " [0 0 0 0 0 0 0 0 0 8 0 0 0]\n",
      " [0 0 0 0 0 0 0 0 0 0 0 0 0]\n",
      " [0 0 0 0 0 0 0 0 0 0 0 0 0]\n",
      " [0 0 0 0 0 0 0 0 0 0 0 0 0]\n",
      " [0 0 0 0 0 0 0 0 0 0 0 0 0]]\n",
      "\n",
      "CSR—format\n",
      "Value: [8 8 8 8 8 8 8 8 8 8 8 8 8]\n",
      "Col: [1 4 2 3 5 7 5 6 2 7 8 8 9]\n",
      "Index: [ 0  2  3  6  8 10 11 11 12 13 13 13 13 13]\n",
      "\n",
      "Result:\n",
      "  (0, 1)\t8\n",
      "  (0, 4)\t8\n",
      "  (0, 2)\t8\n",
      "  (0, 7)\t8\n",
      "  (0, 3)\t8\n",
      "  (0, 5)\t8\n",
      "  (0, 8)\t8\n",
      "  (0, 6)\t8\n",
      "  (0, 9)\t8\n",
      "  (1, 2)\t8\n",
      "  (1, 3)\t8\n",
      "  (1, 5)\t8\n",
      "  (1, 7)\t8\n",
      "  (1, 6)\t8\n",
      "  (1, 8)\t8\n",
      "  (1, 9)\t8\n",
      "  (2, 3)\t8\n",
      "  (2, 5)\t8\n",
      "  (2, 7)\t8\n",
      "  (2, 6)\t8\n",
      "  (2, 8)\t8\n",
      "  (2, 9)\t8\n",
      "  (3, 5)\t8\n",
      "  (3, 6)\t8\n",
      "  (3, 8)\t8\n",
      "  (3, 9)\t8\n",
      "  (4, 2)\t8\n",
      "  (4, 7)\t8\n",
      "  (4, 3)\t8\n",
      "  (4, 5)\t8\n",
      "  (4, 8)\t8\n",
      "  (4, 6)\t8\n",
      "  (4, 9)\t8\n",
      "  (5, 8)\t8\n",
      "  (5, 9)\t8\n",
      "  (7, 8)\t8\n",
      "  (7, 9)\t8\n",
      "  (8, 9)\t8\n"
     ]
    }
   ],
   "source": [
    "print(\"Original data using toy.dat\")\n",
    "print(A)\n",
    "print(\"DENS—format\")\n",
    "print(origional)\n",
    "print(\"\")\n",
    "print(\"CSR—format\")\n",
    "print(\"Value:\",CSR.data)\n",
    "print(\"Col:\",CSR.indices)\n",
    "print(\"Index:\",CSR.indptr)\n",
    "print(\"\")\n",
    "print(\"Result:\")\n",
    "print(A_trans)"
   ]
  },
  {
   "cell_type": "code",
   "execution_count": null,
   "metadata": {},
   "outputs": [],
   "source": []
  },
  {
   "cell_type": "code",
   "execution_count": null,
   "metadata": {},
   "outputs": [],
   "source": []
  },
  {
   "cell_type": "code",
   "execution_count": 25,
   "metadata": {},
   "outputs": [
    {
     "data": {
      "text/plain": [
       "1"
      ]
     },
     "execution_count": 25,
     "metadata": {},
     "output_type": "execute_result"
    }
   ],
   "source": [
    "aaa=[1, 4, 2, 3, 5, 7, 5, 6, 2, 7, 8, 8, 9]\n",
    "bb=aaa[::-1] \n",
    "bb.index(8)\n",
    "target=8"
   ]
  },
  {
   "cell_type": "code",
   "execution_count": 29,
   "metadata": {},
   "outputs": [
    {
     "data": {
      "text/plain": [
       "8"
      ]
     },
     "execution_count": 29,
     "metadata": {},
     "output_type": "execute_result"
    }
   ],
   "source": [
    "target=8\n",
    "aaa[len(aaa)-1-aaa[::-1] .index(target)]"
   ]
  },
  {
   "cell_type": "code",
   "execution_count": null,
   "metadata": {},
   "outputs": [],
   "source": []
  }
 ],
 "metadata": {
  "kernelspec": {
   "display_name": "Python 3",
   "language": "python",
   "name": "python3"
  },
  "language_info": {
   "codemirror_mode": {
    "name": "ipython",
    "version": 3
   },
   "file_extension": ".py",
   "mimetype": "text/x-python",
   "name": "python",
   "nbconvert_exporter": "python",
   "pygments_lexer": "ipython3",
   "version": "3.6.8"
  }
 },
 "nbformat": 4,
 "nbformat_minor": 2
}
